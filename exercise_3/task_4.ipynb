{
 "cells": [
  {
   "cell_type": "code",
   "execution_count": 73,
   "outputs": [
    {
     "data": {
      "text/plain": "        id PClass    Age  Gender  Survived  GenderCode  \\\n0        1    1st  29.00  female         1           1   \n1        2    1st   2.00  female         0           1   \n2        3    1st  30.00    male         0           0   \n3        4    1st  25.00  female         0           1   \n4        5    1st   0.92    male         1           0   \n...    ...    ...    ...     ...       ...         ...   \n1308  1309    3rd  27.00    male         0           0   \n1309  1310    3rd  26.00    male         0           0   \n1310  1311    3rd  22.00    male         0           0   \n1311  1312    3rd  24.00    male         0           0   \n1312  1313    3rd  29.00    male         0           0   \n\n                                               Name  \n0                      Allen, Miss Elisabeth Walton  \n1                       Allison, Miss Helen Loraine  \n2               Allison, Mr Hudson Joshua Creighton  \n3     Allison, Mrs Hudson JC (Bessie Waldo Daniels)  \n4                     Allison, Master Hudson Trevor  \n...                                             ...  \n1308                             Zakarian, Mr Artun  \n1309                         Zakarian, Mr Maprieder  \n1310                               Zenni, Mr Philip  \n1311                               Lievens, Mr Rene  \n1312                                 Zimmerman, Leo  \n\n[1313 rows x 7 columns]",
      "text/html": "<div>\n<style scoped>\n    .dataframe tbody tr th:only-of-type {\n        vertical-align: middle;\n    }\n\n    .dataframe tbody tr th {\n        vertical-align: top;\n    }\n\n    .dataframe thead th {\n        text-align: right;\n    }\n</style>\n<table border=\"1\" class=\"dataframe\">\n  <thead>\n    <tr style=\"text-align: right;\">\n      <th></th>\n      <th>id</th>\n      <th>PClass</th>\n      <th>Age</th>\n      <th>Gender</th>\n      <th>Survived</th>\n      <th>GenderCode</th>\n      <th>Name</th>\n    </tr>\n  </thead>\n  <tbody>\n    <tr>\n      <th>0</th>\n      <td>1</td>\n      <td>1st</td>\n      <td>29.00</td>\n      <td>female</td>\n      <td>1</td>\n      <td>1</td>\n      <td>Allen, Miss Elisabeth Walton</td>\n    </tr>\n    <tr>\n      <th>1</th>\n      <td>2</td>\n      <td>1st</td>\n      <td>2.00</td>\n      <td>female</td>\n      <td>0</td>\n      <td>1</td>\n      <td>Allison, Miss Helen Loraine</td>\n    </tr>\n    <tr>\n      <th>2</th>\n      <td>3</td>\n      <td>1st</td>\n      <td>30.00</td>\n      <td>male</td>\n      <td>0</td>\n      <td>0</td>\n      <td>Allison, Mr Hudson Joshua Creighton</td>\n    </tr>\n    <tr>\n      <th>3</th>\n      <td>4</td>\n      <td>1st</td>\n      <td>25.00</td>\n      <td>female</td>\n      <td>0</td>\n      <td>1</td>\n      <td>Allison, Mrs Hudson JC (Bessie Waldo Daniels)</td>\n    </tr>\n    <tr>\n      <th>4</th>\n      <td>5</td>\n      <td>1st</td>\n      <td>0.92</td>\n      <td>male</td>\n      <td>1</td>\n      <td>0</td>\n      <td>Allison, Master Hudson Trevor</td>\n    </tr>\n    <tr>\n      <th>...</th>\n      <td>...</td>\n      <td>...</td>\n      <td>...</td>\n      <td>...</td>\n      <td>...</td>\n      <td>...</td>\n      <td>...</td>\n    </tr>\n    <tr>\n      <th>1308</th>\n      <td>1309</td>\n      <td>3rd</td>\n      <td>27.00</td>\n      <td>male</td>\n      <td>0</td>\n      <td>0</td>\n      <td>Zakarian, Mr Artun</td>\n    </tr>\n    <tr>\n      <th>1309</th>\n      <td>1310</td>\n      <td>3rd</td>\n      <td>26.00</td>\n      <td>male</td>\n      <td>0</td>\n      <td>0</td>\n      <td>Zakarian, Mr Maprieder</td>\n    </tr>\n    <tr>\n      <th>1310</th>\n      <td>1311</td>\n      <td>3rd</td>\n      <td>22.00</td>\n      <td>male</td>\n      <td>0</td>\n      <td>0</td>\n      <td>Zenni, Mr Philip</td>\n    </tr>\n    <tr>\n      <th>1311</th>\n      <td>1312</td>\n      <td>3rd</td>\n      <td>24.00</td>\n      <td>male</td>\n      <td>0</td>\n      <td>0</td>\n      <td>Lievens, Mr Rene</td>\n    </tr>\n    <tr>\n      <th>1312</th>\n      <td>1313</td>\n      <td>3rd</td>\n      <td>29.00</td>\n      <td>male</td>\n      <td>0</td>\n      <td>0</td>\n      <td>Zimmerman, Leo</td>\n    </tr>\n  </tbody>\n</table>\n<p>1313 rows × 7 columns</p>\n</div>"
     },
     "execution_count": 73,
     "metadata": {},
     "output_type": "execute_result"
    }
   ],
   "source": [
    "import pandas as pd\n",
    "import matplotlib.pyplot as plt\n",
    "import numpy as np\n",
    "\n",
    "df = pd.read_csv('titanic.csv')\n",
    "df"
   ],
   "metadata": {
    "collapsed": false,
    "pycharm": {
     "name": "#%%\n"
    }
   }
  },
  {
   "cell_type": "markdown",
   "source": [
    "# Task 4.1"
   ],
   "metadata": {
    "collapsed": false,
    "pycharm": {
     "name": "#%% md\n"
    }
   }
  },
  {
   "cell_type": "code",
   "execution_count": 76,
   "outputs": [
    {
     "data": {
      "text/plain": "<Figure size 432x288 with 1 Axes>",
      "image/png": "[encoded data removed]"
     },
     "metadata": {
      "needs_background": "light"
     },
     "output_type": "display_data"
    }
   ],
   "source": [
    "def add_age_group(dataframe):\n",
    "    dataframe[\"age_group\"] = pd.cut(\n",
    "        dataframe[\"Age\"],\n",
    "        bins=[15, 20, 25, 30, 35, 40, 45, 50, 55, 60, 65, 70, 75, 80, 85, 90],\n",
    "        labels=[\"20\", \"25\", \"30\", \"35\", \"40\", \"45\", \"50\", \"55\", \"60\", \"65\", \"70\", \"75\", \"80\", \"85\", \"90\"])\n",
    "    return dataframe\n",
    "\n",
    "def bar_chart_age_group(dataframe):\n",
    "    dataframe[\"age_group\"].value_counts().plot(kind=\"bar\")\n",
    "    plt.show()\n",
    "\n",
    "bar_chart_age_group(add_age_group(df))\n"
   ],
   "metadata": {
    "collapsed": false,
    "pycharm": {
     "name": "#%%\n"
    }
   }
  },
  {
   "cell_type": "markdown",
   "source": [
    "# Task 4.2"
   ],
   "metadata": {
    "collapsed": false,
    "pycharm": {
     "name": "#%% md\n"
    }
   }
  },
  {
   "cell_type": "code",
   "execution_count": 77,
   "outputs": [
    {
     "data": {
      "text/plain": "<Figure size 432x288 with 1 Axes>",
      "image/png": "[encoded data removed]"
     },
     "metadata": {},
     "output_type": "display_data"
    }
   ],
   "source": [
    "def pie_chart(dataframe):\n",
    "    # get size of dataframe\n",
    "    total_males = 0\n",
    "    total_females = 0\n",
    "    survived_males = 0\n",
    "    survived_females = 0\n",
    "\n",
    "    size = len(dataframe)\n",
    "    for index, row in dataframe.iterrows():\n",
    "        if row[\"GenderCode\"] == 1:\n",
    "            total_females += 1\n",
    "        else:\n",
    "            total_males += 1\n",
    "        if row[\"Survived\"] == 1:\n",
    "            if row[\"GenderCode\"] == 1:\n",
    "                survived_females += 1\n",
    "            else:\n",
    "                survived_males += 1\n",
    "    total_survived = survived_males + survived_females\n",
    "    survived_males_percentage = (survived_males / total_survived) * 100\n",
    "    survived_females_percentage = (survived_females / total_survived) * 100\n",
    "    values = np.array([survived_males_percentage, survived_females_percentage])\n",
    "    labels = [\"Males\", \"Females\"]\n",
    "\n",
    "    plt.pie(x=values, labels=labels, radius=1.2, explode=(0, 0.05), autopct='%1.1f%%')\n",
    "    plt.ylabel(\"Survived\")\n",
    "    plt.title(f\"Passengers: {size}\\n\"\n",
    "              f\"Survived Males: {survived_males}\\n\"\n",
    "              f\"Survived Females: {survived_females}\")\n",
    "\n",
    "    plt.show()\n",
    "\n",
    "\n",
    "pie_chart(df)"
   ],
   "metadata": {
    "collapsed": false,
    "pycharm": {
     "name": "#%%\n"
    }
   }
  },
  {
   "cell_type": "code",
   "execution_count": null,
   "outputs": [],
   "source": [],
   "metadata": {
    "collapsed": false,
    "pycharm": {
     "name": "#%%\n"
    }
   }
  }
 ],
 "metadata": {
  "kernelspec": {
   "display_name": "Python 3",
   "language": "python",
   "name": "python3"
  },
  "language_info": {
   "codemirror_mode": {
    "name": "ipython",
    "version": 2
   },
   "file_extension": ".py",
   "mimetype": "text/x-python",
   "name": "python",
   "nbconvert_exporter": "python",
   "pygments_lexer": "ipython2",
   "version": "2.7.6"
  }
 },
 "nbformat": 4,
 "nbformat_minor": 0
}