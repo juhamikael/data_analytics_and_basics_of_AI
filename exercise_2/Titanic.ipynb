{
 "cells": [
  {
   "cell_type": "code",
   "execution_count": 82,
   "metadata": {
    "pycharm": {
     "name": "#%%\n"
    }
   },
   "outputs": [],
   "source": [
    "import pandas as pd\n",
    "from matplotlib import pyplot as plt\n",
    "\n",
    "titanic_data = pd.read_csv(\"Titanic_data.csv\")\n",
    "titanic_names = pd.read_csv(\"Titanic_names.csv\")\n"
   ]
  },
  {
   "cell_type": "code",
   "execution_count": 83,
   "metadata": {
    "pycharm": {
     "name": "#%%\n"
    }
   },
   "outputs": [
    {
     "name": "stdout",
     "output_type": "stream",
     "text": [
      "Data Info\n",
      "-------------------------\n",
      "<class 'pandas.core.frame.DataFrame'>\n",
      "RangeIndex: 1313 entries, 0 to 1312\n",
      "Data columns (total 6 columns):\n",
      " #   Column      Non-Null Count  Dtype  \n",
      "---  ------      --------------  -----  \n",
      " 0   id          1313 non-null   int64  \n",
      " 1   PClass      1313 non-null   object \n",
      " 2   Age         1313 non-null   float64\n",
      " 3   Gender      1313 non-null   object \n",
      " 4   Survived    1313 non-null   int64  \n",
      " 5   GenderCode  1313 non-null   int64  \n",
      "dtypes: float64(1), int64(3), object(2)\n",
      "memory usage: 61.7+ KB\n",
      "None\n",
      "\n",
      "\n",
      "-------------------------\n",
      "Data Describe\n",
      "-------------------------\n",
      "                id          Age     Survived   GenderCode\n",
      "count  1313.000000  1313.000000  1313.000000  1313.000000\n",
      "mean    657.000000    17.502574     0.342727     0.351866\n",
      "std     379.174762    18.516945     0.474802     0.477734\n",
      "min       1.000000     0.000000     0.000000     0.000000\n",
      "25%     329.000000     0.000000     0.000000     0.000000\n",
      "50%     657.000000    18.000000     0.000000     0.000000\n",
      "75%     985.000000    30.000000     1.000000     1.000000\n",
      "max    1313.000000    71.000000     1.000000     1.000000\n"
     ]
    }
   ],
   "source": [
    "def explain_data(data):\n",
    "    print(f\"Data Info\\n{'-' * 25}\")\n",
    "    print(data.info())\n",
    "    print(f\"\\n\\n{'-' * 25}\\nData Describe\\n{'-' * 25}\")\n",
    "    print(data.describe())\n",
    "\n",
    "\n",
    "explain_data(titanic_data)"
   ]
  },
  {
   "cell_type": "code",
   "execution_count": 84,
   "metadata": {
    "pycharm": {
     "name": "#%%\n"
    }
   },
   "outputs": [
    {
     "data": {
      "text/plain": "<Figure size 432x288 with 4 Axes>",
      "image/png": "[encoded data removed]"
     },
     "metadata": {
      "needs_background": "light"
     },
     "output_type": "display_data"
    }
   ],
   "source": [
    "def histogram(data, bins):\n",
    "    data.hist(bins=bins)\n",
    "    plt.show()\n",
    "\n",
    "\n",
    "histogram(titanic_data, 4)"
   ]
  },
  {
   "cell_type": "code",
   "execution_count": 85,
   "outputs": [],
   "source": [
    "def merge_df(data1, data2):\n",
    "    return pd.merge(data1, data2, on=\"id\", how=\"inner\")"
   ],
   "metadata": {
    "collapsed": false,
    "pycharm": {
     "name": "#%%\n"
    }
   }
  },
  {
   "cell_type": "code",
   "execution_count": 161,
   "outputs": [
    {
     "data": {
      "text/plain": "{'total_passengers': 1313,\n 'male': 851,\n 'female': 462,\n 'known_mean_age': 30.4,\n 'count_age_not_known': 557}"
     },
     "execution_count": 161,
     "metadata": {},
     "output_type": "execute_result"
    }
   ],
   "source": [
    "count_data = merge_df(titanic_data, titanic_names)\n",
    "\n",
    "\n",
    "def process_zero_age(data):\n",
    "    zero_age = []\n",
    "    for i, row in data.iterrows():\n",
    "        if row[\"Age\"] == 0:\n",
    "            data.drop(i, inplace=True)\n",
    "            zero_age.append(i)\n",
    "    return {\"data\": data, \"zero_age\": len(zero_age)}\n",
    "\n",
    "\n",
    "def count_from_data(data):\n",
    "    total_passengers = data[\"Name\"].count()\n",
    "    male = (data[\"Gender\"] == \"male\").sum()\n",
    "    female = (data[\"Gender\"] == \"female\").sum()\n",
    "    # mean_age = (data[\"Age\"]).mean()\n",
    "\n",
    "    # Koska datassa on 0 arvoja, tulee nama tiputtaa pois mediaani ikaa laskiessa\n",
    "    processed_data = process_zero_age(data)\n",
    "    complete_age_data = processed_data[\"data\"]\n",
    "    zero_age = processed_data[\"zero_age\"]\n",
    "    mean_age = round(complete_age_data[\"Age\"].mean(), 1)\n",
    "\n",
    "    data_dict = {\n",
    "        \"total_passengers\": total_passengers,\n",
    "        \"male\": male,\n",
    "        \"female\": female,\n",
    "        \"known_mean_age\": mean_age,\n",
    "        \"count_age_not_known\": zero_age\n",
    "    }\n",
    "\n",
    "    return data_dict\n",
    "\n",
    "\n",
    "count_from_data(count_data)"
   ],
   "metadata": {
    "collapsed": false,
    "pycharm": {
     "name": "#%%\n"
    }
   }
  },
  {
   "cell_type": "code",
   "execution_count": 91,
   "outputs": [
    {
     "data": {
      "text/plain": "array(['1st', '2nd', '*', '3rd'], dtype=object)"
     },
     "execution_count": 91,
     "metadata": {},
     "output_type": "execute_result"
    }
   ],
   "source": [
    "merged_df = merge_df(titanic_data, titanic_names)\n",
    "# Get unique values from column\n",
    "unique_values = merged_df[\"PClass\"].unique()\n",
    "unique_values"
   ],
   "metadata": {
    "collapsed": false,
    "pycharm": {
     "name": "#%%\n"
    }
   }
  },
  {
   "cell_type": "code",
   "execution_count": 160,
   "outputs": [
    {
     "name": "stdout",
     "output_type": "stream",
     "text": [
      "id                            457\n",
      "PClass                          0\n",
      "Age                           0.0\n",
      "Gender                       male\n",
      "Survived                        0\n",
      "GenderCode                      0\n",
      "Name          Jacobsohn Mr Samuel\n",
      "Name: 456, dtype: object\n"
     ]
    }
   ],
   "source": [
    "for index, value in merged_df.iterrows():\n",
    "    if value[\"PClass\"] == 0:\n",
    "        print(value)"
   ],
   "metadata": {
    "collapsed": false,
    "pycharm": {
     "name": "#%%\n"
    }
   }
  },
  {
   "cell_type": "code",
   "execution_count": 159,
   "outputs": [
    {
     "data": {
      "text/plain": "                      value\nsurvived              450.0\nsurvived_%             34.3\nnot_survived          863.0\nnot_survived_%         65.7\nfemales_survived      308.0\nfemales_not_survived  154.0\nmales_survived        142.0\nmales_not_survived    709.0",
      "text/html": "<div>\n<style scoped>\n    .dataframe tbody tr th:only-of-type {\n        vertical-align: middle;\n    }\n\n    .dataframe tbody tr th {\n        vertical-align: top;\n    }\n\n    .dataframe thead th {\n        text-align: right;\n    }\n</style>\n<table border=\"1\" class=\"dataframe\">\n  <thead>\n    <tr style=\"text-align: right;\">\n      <th></th>\n      <th>value</th>\n    </tr>\n  </thead>\n  <tbody>\n    <tr>\n      <th>survived</th>\n      <td>450.0</td>\n    </tr>\n    <tr>\n      <th>survived_%</th>\n      <td>34.3</td>\n    </tr>\n    <tr>\n      <th>not_survived</th>\n      <td>863.0</td>\n    </tr>\n    <tr>\n      <th>not_survived_%</th>\n      <td>65.7</td>\n    </tr>\n    <tr>\n      <th>females_survived</th>\n      <td>308.0</td>\n    </tr>\n    <tr>\n      <th>females_not_survived</th>\n      <td>154.0</td>\n    </tr>\n    <tr>\n      <th>males_survived</th>\n      <td>142.0</td>\n    </tr>\n    <tr>\n      <th>males_not_survived</th>\n      <td>709.0</td>\n    </tr>\n  </tbody>\n</table>\n</div>"
     },
     "execution_count": 159,
     "metadata": {},
     "output_type": "execute_result"
    }
   ],
   "source": [
    "def how_many_survived(data, gender: str):\n",
    "    did_survive = {\n",
    "        \"survived\": 0,\n",
    "        \"not_survived\": 0\n",
    "    }\n",
    "    for i, row in data.iterrows():\n",
    "        if row[\"Gender\"] == gender:\n",
    "            if row[\"Survived\"] == 1:\n",
    "                did_survive[\"survived\"] += 1\n",
    "            else:\n",
    "                did_survive[\"not_survived\"] += 1\n",
    "\n",
    "    return did_survive\n",
    "\n",
    "\n",
    "def get_survived(data):\n",
    "    total = data[\"Survived\"].count()\n",
    "    survived = data[\"Survived\"].sum()\n",
    "    survived_percentage = round((survived / total) * 100, 1)\n",
    "    not_survived = data[\"Survived\"].count() - survived\n",
    "\n",
    "    females = how_many_survived(data, \"female\")\n",
    "    females_survived = females[\"survived\"]\n",
    "    females_not_survived = females[\"not_survived\"]\n",
    "\n",
    "    males = how_many_survived(data, \"male\")\n",
    "    males_survived = males[\"survived\"]\n",
    "    males_not_survived = males[\"not_survived\"]\n",
    "\n",
    "    data_dict = {\n",
    "        \"survived\": survived,\n",
    "        \"survived_%\": survived_percentage,\n",
    "        \"not_survived\": not_survived,\n",
    "        \"not_survived_%\": 100 - survived_percentage,\n",
    "        \"females_survived\": females_survived,\n",
    "        \"females_not_survived\": females_not_survived,\n",
    "        \"males_survived\": males_survived,\n",
    "        \"males_not_survived\": males_not_survived\n",
    "    }\n",
    "    return pd.DataFrame.from_dict(data_dict, orient=\"index\", columns=[\"value\"])\n",
    "\n",
    "\n",
    "get_survived(merged_df)"
   ],
   "metadata": {
    "collapsed": false,
    "pycharm": {
     "name": "#%%\n"
    }
   }
  },
  {
   "cell_type": "code",
   "execution_count": 107,
   "outputs": [
    {
     "data": {
      "text/plain": "{'survived': 450, 'not_survived': 863}"
     },
     "execution_count": 107,
     "metadata": {},
     "output_type": "execute_result"
    }
   ],
   "source": [],
   "metadata": {
    "collapsed": false,
    "pycharm": {
     "name": "#%%\n"
    }
   }
  },
  {
   "cell_type": "code",
   "execution_count": null,
   "outputs": [],
   "source": [],
   "metadata": {
    "collapsed": false,
    "pycharm": {
     "name": "#%%\n"
    }
   }
  }
 ],
 "metadata": {
  "kernelspec": {
   "display_name": "Python 3 (ipykernel)",
   "language": "python",
   "name": "python3"
  },
  "language_info": {
   "codemirror_mode": {
    "name": "ipython",
    "version": 3
   },
   "file_extension": ".py",
   "mimetype": "text/x-python",
   "name": "python",
   "nbconvert_exporter": "python",
   "pygments_lexer": "ipython3",
   "version": "3.9.12"
  }
 },
 "nbformat": 4,
 "nbformat_minor": 1
}